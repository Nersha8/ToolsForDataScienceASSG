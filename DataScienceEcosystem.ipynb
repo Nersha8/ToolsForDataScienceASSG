{
 "cells": [
  {
   "cell_type": "markdown",
   "id": "9721fe34-0135-41ed-91bc-ad698d3fa75f",
   "metadata": {
    "jupyter": {
     "source_hidden": true
    },
    "tags": []
   },
   "source": [
    "# Data Science Tools and Ecosystem"
   ]
  },
  {
   "cell_type": "markdown",
   "id": "d7a0292f-0372-4644-a673-bda0b6e782bb",
   "metadata": {
    "jupyter": {
     "source_hidden": true
    },
    "tags": []
   },
   "source": [
    "## Introduction\n",
    "\n",
    "In this notebook, we will Introduce a comprehensive overview and summary of the Data Science Tools and Ecosystem. This includes the various tools, libraries, and technologies that data scientists use to gather, analyze, visualize, and interpret data. Understanding this ecosystem is crucial for anyone looking to excel in the field of data science.\n",
    "\n",
    "![Data Science Tools and Ecosystem](https://raw.githubusercontent.com/gcmatos/gcmatos.github.io/master/images/foss.png)\n"
   ]
  },
  {
   "cell_type": "markdown",
   "id": "7e093557-9902-4c98-baf0-dfc7a66aeabd",
   "metadata": {
    "jupyter": {
     "source_hidden": true
    },
    "tags": []
   },
   "source": [
    "**Objectives:**\n",
    "\n",
    "- List popular languages for Data Science.\n",
    "- Highlight commonly used Data Science libraries.\n",
    "- Introduce Data Science development environment tools.\n",
    "- Provide examples of evaluating arithmetic expressions in Python.\n",
    "- Demonstrate how to convert minutes to hours in Python.\n"
   ]
  },
  {
   "cell_type": "markdown",
   "id": "bdb4b1de-7f11-4158-878f-fafdd007785f",
   "metadata": {
    "jupyter": {
     "source_hidden": true
    },
    "tags": []
   },
   "source": [
    "## Popular Data Science Languages\n",
    "\n",
    "Some of the popular languages that Data Scientists use are:\n",
    "\n",
    "1. **Python**: Python is one of the most widely used programming languages in the field of data science. It offers a rich ecosystem of libraries and tools such as NumPy, pandas, scikit-learn, and TensorFlow, making it a versatile choice for data analysis, machine learning, and more.\n",
    "\n",
    "2. **R**: R is another popular language, particularly known for its statistical analysis and data visualization capabilities. Data scientists often use R for exploratory data analysis and creating data visualizations.\n",
    "\n",
    "3. **SQL**: SQL is essential for working with databases. Data scientists use SQL to extract, manipulate, and query data from relational databases, which are common in many organizations.\n",
    "\n",
    "4. **Julia**: Julia is a newer language gaining popularity in the data science community due to its speed and performance. It's particularly useful for numerical and scientific computing tasks.\n",
    "\n",
    "5. **Scala**: Scala, often used with Apache Spark, is chosen for big data and distributed computing applications. It combines functional and object-oriented programming features.\n",
    "\n",
    "\n"
   ]
  },
  {
   "cell_type": "markdown",
   "id": "c9d01064-22ba-4dca-9c8c-85fe227bbb91",
   "metadata": {
    "jp-MarkdownHeadingCollapsed": true,
    "jupyter": {
     "source_hidden": true
    },
    "tags": []
   },
   "source": [
    "## Commonly Used Data Science Libraries\n",
    "\n",
    "Some of the commonly used libraries used by Data Scientists include:\n",
    "\n",
    "1. **NumPy**: NumPy is a fundamental library for numerical computing in Python. It provides support for working with large, multi-dimensional arrays and matrices, along with a collection of mathematical functions to operate on these arrays efficiently.\n",
    "\n",
    "2. **pandas**: pandas is a versatile data manipulation library for Python. It offers data structures like DataFrames, which are well-suited for data cleaning, exploration, and analysis. Data scientists use pandas to import, clean, and transform data.\n",
    "\n",
    "3. **scikit-learn**: scikit-learn is a machine learning library for Python that provides simple and efficient tools for data analysis and modeling. It includes a wide range of machine learning algorithms and tools for tasks like classification, regression, clustering, and dimensionality reduction.\n",
    "\n",
    "4. **Matplotlib**: Matplotlib is a popular library for creating static, animated, and interactive visualizations in Python. It's highly customizable and widely used for creating charts, graphs, and plots.\n",
    "\n",
    "5. **TensorFlow** and **PyTorch**: These are two major libraries for deep learning and neural network research. TensorFlow is developed by Google, while PyTorch is maintained by Facebook's AI Research lab. Data scientists use these libraries for building and training neural networks.\n"
   ]
  },
  {
   "cell_type": "markdown",
   "id": "400df273-715b-47cb-a28b-4b7250721969",
   "metadata": {
    "jupyter": {
     "source_hidden": true
    },
    "tags": []
   },
   "source": [
    "## Data Science Tools\n",
    "\n",
    "| Data Science Tools           |\n",
    "|------------------------------|\n",
    "| Jupyter Notebook             |\n",
    "| RStudio                      |\n",
    "| VS Code with Python Extension|\n"
   ]
  },
  {
   "cell_type": "markdown",
   "id": "1477f6ba-71d5-4c81-8dd0-82614fccc727",
   "metadata": {
    "jupyter": {
     "source_hidden": true
    },
    "tags": []
   },
   "source": [
    "### Examples of Evaluating Arithmetic Expressions in Python\n",
    "\n",
    "Below are a few examples of evaluating arithmetic expressions in Python.\n"
   ]
  },
  {
   "cell_type": "code",
   "execution_count": 4,
   "id": "7dfeb8c2-1fe2-47f6-87bf-ebc63f27293d",
   "metadata": {
    "collapsed": true,
    "jupyter": {
     "outputs_hidden": true,
     "source_hidden": true
    },
    "tags": []
   },
   "outputs": [
    {
     "data": {
      "text/plain": [
       "17"
      ]
     },
     "execution_count": 4,
     "metadata": {},
     "output_type": "execute_result"
    }
   ],
   "source": [
    "# This is a simple arithmetic expression to multiply then add integers.\n",
    "result = (3 * 4) + 5\n",
    "result\n"
   ]
  },
  {
   "cell_type": "code",
   "execution_count": 5,
   "id": "058ae10f-f496-4e2e-8f1b-8039e692bcbc",
   "metadata": {
    "collapsed": true,
    "jupyter": {
     "outputs_hidden": true,
     "source_hidden": true
    },
    "tags": []
   },
   "outputs": [
    {
     "data": {
      "text/plain": [
       "3.3333333333333335"
      ]
     },
     "execution_count": 5,
     "metadata": {},
     "output_type": "execute_result"
    }
   ],
   "source": [
    "# This will convert 200 minutes to hours by dividing by 60.\n",
    "minutes = 200\n",
    "hours = minutes / 60\n",
    "hours\n"
   ]
  },
  {
   "cell_type": "markdown",
   "id": "8da681f5-9594-44f5-8065-8992caecd924",
   "metadata": {
    "tags": []
   },
   "source": [
    "## Author\n",
    "\n",
    "Chirayu Bhatt\n"
   ]
  },
  {
   "cell_type": "code",
   "execution_count": null,
   "id": "3260804d-38e9-4cd9-966e-c84d51710283",
   "metadata": {},
   "outputs": [],
   "source": []
  }
 ],
 "metadata": {
  "kernelspec": {
   "display_name": "Python 3 (ipykernel)",
   "language": "python",
   "name": "python3"
  },
  "language_info": {
   "codemirror_mode": {
    "name": "ipython",
    "version": 3
   },
   "file_extension": ".py",
   "mimetype": "text/x-python",
   "name": "python",
   "nbconvert_exporter": "python",
   "pygments_lexer": "ipython3",
   "version": "3.10.9"
  }
 },
 "nbformat": 4,
 "nbformat_minor": 5
}
